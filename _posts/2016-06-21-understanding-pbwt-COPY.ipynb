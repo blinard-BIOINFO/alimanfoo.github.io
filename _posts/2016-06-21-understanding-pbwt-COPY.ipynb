{
 "cells": [
  {
   "cell_type": "markdown",
   "metadata": {},
   "source": [
    "Let's start with some data. The variable *X* below is a list of 8 haplotypes with 6 variable sites, all biallelic. This is just some dummy data I made up myself to test out the algorithms"
   ]
  },
  {
   "cell_type": "code",
   "execution_count": 1,
   "metadata": {
    "collapsed": false,
    "jupyter": {
     "outputs_hidden": false
    }
   },
   "outputs": [],
   "source": [
    "X = [[0, 1, 0, 1, 0, 0],\n",
    "     [1, 1, 0, 0, 1, 1],\n",
    "     [1, 0, 1, 1, 1, 0],\n",
    "     [0, 1, 1, 1, 0, 0],\n",
    "     [1, 1, 1, 0, 1, 1]]"
   ]
  },
  {
   "cell_type": "markdown",
   "metadata": {
    "tags": []
   },
   "source": [
    "## Algorithm 1. Build prefix array\n",
    "\n",
    "The basic idea of PBWT is to sort the haplotypes in order of reversed prefixes. This sorting then enables matches between haplotypes to be found efficiently. Algorithm 1 in Durbin (2014) builds something called the \"positional prefix array\", which is just the list of haplotype indices that would sort the haplotypes in reversed prefix order at some position *k*. \n",
    "\n",
    "Durbin uses the notation *a<sub>k</sub>* to denote the positional prefix array for position *k*, however he also uses the variable *a* for one of the intermediates within algorithm 1, so to avoid any ambiguity here I will use *ppa<sub>k</sub>* to denote the positional prefix array at position *k*.\n",
    "\n",
    "The trick of algorithm 1 is to sweep through the data by position, building *ppa<sub>k+1</sub>* from *ppa<sub>k</sub>*. The algorithm simply sorts the haplotypes by allele at position *k*, making sure that the sort order from the previous position is retained for all haplotypes with the same allele value.\n",
    "\n",
    "Here is a pure Python implementation of algorithm 1, purely for illustration purposes.\n",
    "\n",
    "**Benjamin** : extended to return the complete list of *a<sub>k</sub>* (*ppa<sub>k</sub>* for all *k*)"
   ]
  },
  {
   "cell_type": "code",
   "execution_count": 2,
   "metadata": {
    "tags": []
   },
   "outputs": [],
   "source": [
    "def build_all_prefix_array(X):\n",
    "    \n",
    "    # M haplotypes\n",
    "    M = len(X)\n",
    "\n",
    "    # N variable sites\n",
    "    N = len(X[0])\n",
    "    \n",
    "    all_ppa = []\n",
    "    \n",
    "    # initialise positional prefix array\n",
    "    ppa = list(range(M))\n",
    "    \n",
    "    # iterate over variants\n",
    "    for k in range(N-1):\n",
    "\n",
    "        # setup intermediates\n",
    "        a = list()\n",
    "        b = list()\n",
    "    \n",
    "        # iterate over haplotypes in reverse prefix sorted order\n",
    "        for index in ppa:\n",
    "\n",
    "            # current haplotype\n",
    "            haplotype = X[index]\n",
    "            \n",
    "            # allele for current haplotype\n",
    "            allele = haplotype[k]\n",
    "            \n",
    "            # update intermediates\n",
    "            if allele == 0:\n",
    "                a.append(index)\n",
    "            else:\n",
    "                b.append(index)\n",
    "                \n",
    "        # construct the new positional prefix array for k+1 by concatenating lists a and b\n",
    "        ppa = a + b\n",
    "        all_ppa.append(ppa)\n",
    "        \n",
    "    return all_ppa\n",
    "    "
   ]
  },
  {
   "cell_type": "markdown",
   "metadata": {},
   "source": [
    "Let's run it on the dummy data *X*."
   ]
  },
  {
   "cell_type": "code",
   "execution_count": 3,
   "metadata": {
    "collapsed": false,
    "jupyter": {
     "outputs_hidden": false
    }
   },
   "outputs": [
    {
     "name": "stdout",
     "output_type": "stream",
     "text": [
      "ak[1]: [0, 3, 1, 2, 4]\n",
      "ak[2]: [2, 0, 3, 1, 4]\n",
      "ak[3]: [0, 1, 2, 3, 4]\n",
      "ak[4]: [1, 4, 0, 2, 3]\n",
      "ak[5]: [0, 3, 1, 4, 2]\n"
     ]
    }
   ],
   "source": [
    "\n",
    "res = build_all_prefix_array(X)\n",
    "\n",
    "# list of a_k\n",
    "print(\"\\n\".join([\"ak[\"+str(k+1)+\"]: \"+str(ele) for k,ele in enumerate(res)]))\n"
   ]
  },
  {
   "cell_type": "markdown",
   "metadata": {},
   "source": [
    "The resulting list of integers is the list of haplotype indices that sorts the haplotypes up to the final position (*k* = *N*-1). To help visualise this, let's write a display function."
   ]
  },
  {
   "cell_type": "code",
   "execution_count": 4,
   "metadata": {},
   "outputs": [],
   "source": [
    "def display_prefix_array(X):\n",
    "    from IPython.display import display_html\n",
    "    ppa = build_all_prefix_array(X)[len(X[0])-2]\n",
    "    html = '<pre style=\"line-height: 100%\">'\n",
    "    for index in ppa:\n",
    "        haplotype = X[index]\n",
    "        html += str(index) + '|' + ''.join(str(allele) for allele in haplotype[:-1])\n",
    "        html += '  ' + str(haplotype[-1]) + '<br/>'\n",
    "    html += '</pre>'\n",
    "    display_html(html, raw=True)"
   ]
  },
  {
   "cell_type": "code",
   "execution_count": 5,
   "metadata": {
    "collapsed": false,
    "jupyter": {
     "outputs_hidden": false
    }
   },
   "outputs": [
    {
     "data": {
      "text/html": [
       "<pre style=\"line-height: 100%\">0|01010  0<br/>3|01110  0<br/>1|11001  1<br/>4|11101  1<br/>2|10111  0<br/></pre>"
      ]
     },
     "metadata": {},
     "output_type": "display_data"
    }
   ],
   "source": [
    "display_prefix_array(X)"
   ]
  },
  {
   "cell_type": "markdown",
   "metadata": {},
   "source": [
    "The positional prefix array is the column to the left of the '``|``' showing the haplotype indices. To the right of the '``|``' are the haplotypes up to *k* = *N*-1 sorted in reversed prefix order. Then separated by a space is the next allele for each haplotype - this final column makes up what Durbin (2014) calls *y<sup>k</sup>*[*k*]."
   ]
  },
  {
   "cell_type": "markdown",
   "metadata": {},
   "source": [
    "## Algorithm 2. Build prefix and divergence arrays\n",
    "\n",
    "Sorting haplotypes in this order has a very useful property, which is that each haplotype will be adjacent to the haplotype with the longest match. If several haplotypes have equally long matches these will all be adjacent. Also, the length of match between any pair of non-adjacent haplotypes is the minimum of the lengths of the matches between all haplotypes occurring in between them in the sorted order.\n",
    "\n",
    "Algorithm 2 shows how to find and keep track of the start position for matches between adjacent haplotypes. This can be done while sweeping through the data building the positional prefix arrays. The reason this is possible is because once a match begins between a pair of adjacent haplotypes, those two haplotypes will remain adjacent until the match breaks.\n",
    "\n",
    "Here's a pure Python implementation of algorithm 2, again purely for illustration. Durbin (2014) uses *d<sub>k</sub>* to denote the \"divergence array\" at position *k*, where *d<sub>k</sub>*[*i*] is the position where a match begins between the *i*th haplotype in the sorted order and it's predecessor. Because *d* is also used for one of the intermediates, for clarity I'll use *div<sub>k</sub>* to denote the divergence array.\n",
    "\n",
    "**Benjamin** : extended to return the complete list of *a<sub>k</sub>* and *d<sub>k</sub>* for all *k*\n"
   ]
  },
  {
   "cell_type": "code",
   "execution_count": 6,
   "metadata": {},
   "outputs": [],
   "source": [
    "def build_all_prefix_and_divergence_arrays(X):\n",
    "    \n",
    "    # M haplotypes\n",
    "    M = len(X)\n",
    "\n",
    "    # N variable sites\n",
    "    N = len(X[0])\n",
    "    \n",
    "    # initialise positional prefix array\n",
    "    ppa = list(range(M))\n",
    "    \n",
    "    # initialise divergence array\n",
    "    div = [0] * M\n",
    "\n",
    "    #keep track for all k\n",
    "    all_ppa = []\n",
    "    all_div = []\n",
    "\n",
    "    \n",
    "    # iterate over variants\n",
    "    for k in range(N-1):\n",
    "\n",
    "        # setup intermediates\n",
    "        a = list()\n",
    "        b = list()\n",
    "        d = list()\n",
    "        e = list()\n",
    "        p = q = k + 1\n",
    "    \n",
    "        # iterate over haplotypes in reverse prefix sorted order\n",
    "        for index, match_start in zip(ppa, div):\n",
    "\n",
    "            # current haplotype\n",
    "            haplotype = X[index]\n",
    "            \n",
    "            # allele for current haplotype\n",
    "            allele = haplotype[k]\n",
    "            \n",
    "            # update intermediates\n",
    "            if match_start > p:\n",
    "                p = match_start\n",
    "            if match_start > q:\n",
    "                q = match_start\n",
    "\n",
    "            # update intermediates\n",
    "            if allele == 0:\n",
    "                a.append(index)\n",
    "                d.append(p)\n",
    "                p = 0\n",
    "            else:\n",
    "                b.append(index)\n",
    "                e.append(q)\n",
    "                q = 0\n",
    "                \n",
    "        # construct the new arrays for k+1 by concatenating intermediates\n",
    "        ppa = a + b\n",
    "        div = d + e\n",
    "        all_ppa.append(ppa)\n",
    "        all_div.append(div)\n",
    "    \n",
    "    return all_ppa, all_div\n",
    "\n",
    "    "
   ]
  },
  {
   "cell_type": "code",
   "execution_count": null,
   "metadata": {},
   "outputs": [],
   "source": []
  },
  {
   "cell_type": "markdown",
   "metadata": {},
   "source": [
    "Let's try it out on the dummy haplotype data."
   ]
  },
  {
   "cell_type": "code",
   "execution_count": 7,
   "metadata": {},
   "outputs": [],
   "source": [
    "all_ppa, all_div = build_all_prefix_and_divergence_arrays(X)"
   ]
  },
  {
   "cell_type": "code",
   "execution_count": 8,
   "metadata": {
    "collapsed": false,
    "jupyter": {
     "outputs_hidden": false
    }
   },
   "outputs": [
    {
     "name": "stdout",
     "output_type": "stream",
     "text": [
      "ak[0]: [0, 3, 1, 2, 4]\n",
      "ak[1]: [2, 0, 3, 1, 4]\n",
      "ak[2]: [0, 1, 2, 3, 4]\n",
      "ak[3]: [1, 4, 0, 2, 3]\n",
      "ak[4]: [0, 3, 1, 4, 2]\n"
     ]
    }
   ],
   "source": [
    "print(\"\\n\".join([\"ak[\"+str(k)+\"]: \"+str(ele) for k,ele in enumerate(all_ppa)]))\n"
   ]
  },
  {
   "cell_type": "code",
   "execution_count": 9,
   "metadata": {
    "collapsed": false,
    "jupyter": {
     "outputs_hidden": false
    }
   },
   "outputs": [
    {
     "name": "stdout",
     "output_type": "stream",
     "text": [
      "dk[0]: [1, 0, 1, 0, 0]\n",
      "dk[1]: [2, 2, 0, 1, 0]\n",
      "dk[2]: [3, 1, 3, 2, 1]\n",
      "dk[3]: [4, 3, 4, 3, 2]\n",
      "dk[4]: [5, 3, 5, 3, 4]\n"
     ]
    }
   ],
   "source": [
    "print(\"\\n\".join([\"dk[\"+str(k)+\"]: \"+str(ele) for k,ele in enumerate(all_div)]))\n"
   ]
  },
  {
   "cell_type": "markdown",
   "metadata": {},
   "source": [
    "Again to help make sense of this let's write a display function."
   ]
  },
  {
   "cell_type": "code",
   "execution_count": 10,
   "metadata": {},
   "outputs": [
    {
     "data": {
      "text/html": [
       "<pre style=\"line-height: 100%\">i|dk[N-1]|      k=N-1<br/>0|        5|01010  0<br/>3|        3|011<strong><u>10</u></strong>  0<br/>1|        5|11001  1<br/>4|        3|111<strong><u>01</u></strong>  1<br/>2|        4|1011<strong><u>1</u></strong>  0<br/></pre>"
      ]
     },
     "metadata": {},
     "output_type": "display_data"
    }
   ],
   "source": [
    "def display_prefix_and_divergence_arrays(X):\n",
    "    from IPython.display import display_html\n",
    "    all_ppa, all_div = build_all_prefix_and_divergence_arrays(X)\n",
    "    ppa = all_ppa[len(X[0])-2]\n",
    "    div = all_div[len(X[0])-2]\n",
    "    html = '<pre style=\"line-height: 100%\">'\n",
    "    html += 'i|dk[N-1]|' + \"\".join([\" \" for i in range(len(X[0]))]) + 'k=N-1<br/>'\n",
    "    for index, match_start in zip(ppa, div):\n",
    "        haplotype = X[index]\n",
    "        html += str(index) + '|' + \"\".join(\" \" for i in range(9-len(str(match_start))))\n",
    "        html += str(match_start) + '|'        \n",
    "        for k, allele in enumerate(haplotype[:-1]):\n",
    "            if match_start == k:\n",
    "                html += '<strong><u>'\n",
    "            html += str(allele)\n",
    "        if match_start < len(haplotype) - 1:\n",
    "            html += '</u></strong>'\n",
    "        html += '  ' + str(haplotype[-1]) + '<br/>'\n",
    "    html += '</pre>'\n",
    "    display_html(html, raw=True)\n",
    "    \n",
    "display_prefix_and_divergence_arrays(X)"
   ]
  },
  {
   "cell_type": "markdown",
   "metadata": {},
   "source": [
    "The divergence array has been used to show underlined in bold the maximal matches between each haplotype and it's predecessor in the sorted order, as in Durbin (2014) Figure 1. \n",
    "\n",
    "Let's try it out on some randomly generated data, just to have another example to look at."
   ]
  },
  {
   "cell_type": "code",
   "execution_count": 11,
   "metadata": {
    "collapsed": false,
    "jupyter": {
     "outputs_hidden": false
    }
   },
   "outputs": [
    {
     "data": {
      "text/html": [
       "<pre style=\"line-height: 100%\">i|dk[N-1]|               k=N-1<br/>5|       14|00100001111000  1<br/>1|       12|010111100001<strong><u>00</u></strong>  1<br/>7|       10|1100010101<strong><u>0100</u></strong>  1<br/>3|       11|00000101001<strong><u>100</u></strong>  1<br/>0|       13|1111001101001<strong><u>0</u></strong>  0<br/>2|       12|110111001111<strong><u>10</u></strong>  0<br/>9|       14|00101011011101  1<br/>8|       13|0100100100101<strong><u>1</u></strong>  0<br/>6|       10|1001101001<strong><u>1011</u></strong>  1<br/>4|       12|100100010011<strong><u>11</u></strong>  1<br/></pre>"
      ]
     },
     "metadata": {},
     "output_type": "display_data"
    }
   ],
   "source": [
    "import random\n",
    "M2 = 10\n",
    "N2 = 15\n",
    "Y = [[random.randint(0, 1) for _ in range(N2)] for _ in range(M2)]\n",
    "all_ppa, all_div = build_all_prefix_and_divergence_arrays(Y)\n",
    "display_prefix_and_divergence_arrays(Y)"
   ]
  },
  {
   "cell_type": "markdown",
   "metadata": {},
   "source": [
    "## Algorithm 3. Report long matches"
   ]
  },
  {
   "cell_type": "markdown",
   "metadata": {},
   "source": [
    "Algorithm 3 shows how to find all matches between haplotypes longer than some value *L*. The trick here is to notice that all haplotypes with matches longer than L will be adjacent in the sorted order, forming a \"block\". So algorithm 3 iterates over the haplotypes in sorted order, collecting haplotypes with matches longer than L. When it finds a match less than *L*, it must mean a break between blocks, so it reports matches for all haplotypes in the previous block. The algorithm also collects separately for haplotypes with different alleles at position *k*, to ensure that only matches that terminate at *k* are reported. "
   ]
  },
  {
   "cell_type": "code",
   "execution_count": 12,
   "metadata": {},
   "outputs": [],
   "source": [
    "def report_long_matches(X, L):\n",
    "    \n",
    "    # M haplotypes\n",
    "    M = len(X)\n",
    "\n",
    "    # N variable sites\n",
    "    N = len(X[0])\n",
    "    \n",
    "    # initialise positional prefix array\n",
    "    ppa = list(range(M))\n",
    "    \n",
    "    # initialise divergence array\n",
    "    div = [0] * M\n",
    "    \n",
    "    # iterate over variants\n",
    "    for k in range(N):\n",
    "\n",
    "        # setup intermediates\n",
    "        a = list()\n",
    "        b = list()\n",
    "        d = list()\n",
    "        e = list()\n",
    "        p = q = k + 1\n",
    "        ma = list()\n",
    "        mb = list()\n",
    "    \n",
    "        # iterate over haplotypes in reverse prefix sorted order\n",
    "        for index, match_start in zip(ppa, div):\n",
    "            \n",
    "            # report matches\n",
    "            if match_start > k - L:\n",
    "                if ma and mb:\n",
    "                    yield k, ma, mb\n",
    "                ma = list()\n",
    "                mb = list()\n",
    "\n",
    "            # current haplotype\n",
    "            haplotype = X[index]\n",
    "            \n",
    "            # allele for current haplotype\n",
    "            allele = haplotype[k]\n",
    "            \n",
    "            # update intermediates\n",
    "            if match_start > p:\n",
    "                p = match_start\n",
    "            if match_start > q:\n",
    "                q = match_start\n",
    "\n",
    "            # update intermediates\n",
    "            if allele == 0:\n",
    "                a.append(index)\n",
    "                d.append(p)\n",
    "                p = 0\n",
    "                ma.append(index)\n",
    "            else:\n",
    "                b.append(index)\n",
    "                e.append(q)\n",
    "                q = 0\n",
    "                mb.append(index)\n",
    "                \n",
    "        # report any remaining matches including final haplotype (N.B., not in Durbin 2014)\n",
    "        if ma and mb:\n",
    "            yield k, ma, mb\n",
    "                \n",
    "        # construct the new arrays for k+1\n",
    "        if k < N - 1:\n",
    "            ppa = a + b\n",
    "            div = d + e\n",
    "    "
   ]
  },
  {
   "cell_type": "code",
   "execution_count": 13,
   "metadata": {},
   "outputs": [
    {
     "name": "stdout",
     "output_type": "stream",
     "text": [
      "[0, 1, 0, 1, 0, 0]\n",
      "[1, 1, 0, 0, 1, 1]\n",
      "[1, 0, 1, 1, 1, 0]\n",
      "[0, 1, 1, 1, 0, 0]\n",
      "[1, 1, 1, 0, 1, 1]\n",
      "\n",
      "ak[1]: [0, 3, 1, 2, 4]\n",
      "ak[2]: [2, 0, 3, 1, 4]\n",
      "ak[3]: [0, 1, 2, 3, 4]\n",
      "ak[4]: [1, 4, 0, 2, 3]\n",
      "ak[5]: [0, 3, 1, 4, 2]\n",
      "\n",
      "dk[1]: [1, 0, 1, 0, 0]\n",
      "dk[2]: [2, 2, 0, 1, 0]\n",
      "dk[3]: [3, 1, 3, 2, 1]\n",
      "dk[4]: [4, 3, 4, 3, 2]\n",
      "dk[5]: [5, 3, 5, 3, 4]\n",
      "\n",
      "dk[i]>k-L ? for L=2\n",
      "dk[1]: ['True', 'True', 'True', 'True', 'True']\n",
      "dk[2]: ['True', 'True', 'False', 'True', 'False']\n",
      "dk[3]: ['True', 'False', 'True', 'True', 'False']\n",
      "dk[4]: ['True', 'True', 'True', 'True', 'False']\n",
      "dk[5]: ['True', 'False', 'True', 'False', 'True']\n",
      "\n",
      "\n",
      "\n",
      "k:2\n",
      "i: 0\n",
      "  >!\n",
      "  yik 2 1\n",
      "  0 1 [None, None, None] [2, None, None]\n",
      "i: 1\n",
      "  >!\n",
      "  yik 0 0\n",
      "  1 0 [0, None, None] [2, None, None]\n",
      "i: 2\n",
      "  yik 3 1\n",
      "  1 1 [0, None, None] [3, None, None]\n",
      "i: 3\n",
      "  >!\n",
      "  !!! match ending at k=2 haplos=[0, None, None],[3, None, None]\n",
      "  yik 1 0\n",
      "  1 0 [1, None, None] [3, None, None]\n",
      "i: 4\n",
      "  yik 4 1\n",
      "  1 1 [1, None, None] [4, None, None]\n",
      "  !!! match ending at k=2 haplos=[1, None, None],[4, None, None]\n",
      "\n",
      "k:3\n",
      "i: 0\n",
      "  >!\n",
      "  yik 0 1\n",
      "  0 1 [None, None, None] [0, None, None]\n",
      "i: 1\n",
      "  yik 1 0\n",
      "  1 1 [1, None, None] [0, None, None]\n",
      "i: 2\n",
      "  >!\n",
      "  !!! match ending at k=3 haplos=[1, None, None],[0, None, None]\n",
      "  yik 2 1\n",
      "  0 1 [1, None, None] [2, None, None]\n",
      "i: 3\n",
      "  >!\n",
      "  yik 3 1\n",
      "  0 1 [1, None, None] [3, None, None]\n",
      "i: 4\n",
      "  yik 4 0\n",
      "  1 1 [4, None, None] [3, None, None]\n",
      "  !!! match ending at k=3 haplos=[4, None, None],[3, None, None]\n",
      "\n",
      "k:4\n",
      "i: 0\n",
      "  >!\n",
      "  yik 1 1\n",
      "  0 1 [None, None, None] [1, None, None]\n",
      "i: 1\n",
      "  >!\n",
      "  yik 4 1\n",
      "  0 1 [None, None, None] [4, None, None]\n",
      "i: 2\n",
      "  >!\n",
      "  yik 0 0\n",
      "  1 0 [0, None, None] [4, None, None]\n",
      "i: 3\n",
      "  >!\n",
      "  yik 2 1\n",
      "  0 1 [0, None, None] [2, None, None]\n",
      "i: 4\n",
      "  yik 3 0\n",
      "  1 1 [3, None, None] [2, None, None]\n",
      "  !!! match ending at k=4 haplos=[3, None, None],[2, None, None]\n",
      "\n",
      "k:5\n",
      "i: 0\n",
      "  >!\n",
      "  yik 0 0\n",
      "  1 0 [0, None, None] [None, None, None]\n",
      "i: 1\n",
      "  yik 3 0\n",
      "  2 0 [0, 3, None] [None, None, None]\n",
      "i: 2\n",
      "  >!\n",
      "  yik 1 1\n",
      "  0 1 [0, 3, None] [1, None, None]\n",
      "i: 3\n",
      "  yik 4 1\n",
      "  0 2 [0, 3, None] [1, 4, None]\n",
      "i: 4\n",
      "  >!\n",
      "  yik 2 0\n",
      "  1 0 [2, 3, None] [1, 4, None]\n",
      "\n",
      "(2, [0], [3])\n",
      "(2, [1], [4])\n",
      "(3, [1], [0])\n",
      "(3, [4], [3])\n",
      "(4, [3], [2])\n"
     ]
    }
   ],
   "source": [
    "\n",
    "ak, dk = build_all_prefix_and_divergence_arrays(X)\n",
    "\n",
    "print(\"\\n\".join([str(i) for i in X]))\n",
    "print()\n",
    "\n",
    "all_ppa, all_div = build_all_prefix_and_divergence_arrays(X)\n",
    "print(\"\\n\".join([\"ak[\"+str(k+1)+\"]: \"+str(ak) for k,ak in enumerate(all_ppa)]))\n",
    "print()\n",
    "print(\"\\n\".join([\"dk[\"+str(k+1)+\"]: \"+str(dk) for k,dk in enumerate(all_div)]))\n",
    "print()\n",
    "\n",
    "#match length\n",
    "L=2\n",
    "\n",
    "print(\"dk[i]>k-L ? for L=\"+str(L))\n",
    "[ print(\n",
    "        \"dk[\" + str(k+1) + \"]: \" +\n",
    "        str(\n",
    "            [ str( dki>(k+1-L) ) for dki in dk ]\n",
    "        )\n",
    "    ) \n",
    "    for k,dk in enumerate(all_div)\n",
    "]\n",
    "print()\n",
    "print()\n",
    "     \n",
    "\n",
    "def report_long_matches_2_for_all_k(ak, dk, L):\n",
    "    \n",
    "    for k in range(1,len(X[0])):\n",
    "        \n",
    "        if k>=L:   # not in Durbin et al, 2014\n",
    "            print()\n",
    "            print(\"k:\"+str(k))\n",
    "            \n",
    "            # algo 3 from paper\n",
    "            u = 0\n",
    "            v = 0\n",
    "            a = [None] * 3\n",
    "            b = [None] * 3\n",
    "            \n",
    "            for i in range(len(X)):\n",
    "\n",
    "                print(\"i: \"+str(i))\n",
    "\n",
    "                if dk[k-1][i] > k-L:\n",
    "                    print(\"  >!\")\n",
    "                    if (u>0) and (v>0):\n",
    "                        print(\"  !!! match ending at k=\"+str(k)+\" haplos=\"+str(a)+\",\"+str(b))\n",
    "                        yield k,a,b\n",
    "                    u = 0\n",
    "                    v = 0\n",
    "\n",
    "                print(\"  yik\",ak[k-1][i], X[ak[k-1][i]][k])\n",
    "                if X[ak[k-1][i]][k] == 0:\n",
    "                    a[u] = ak[k-1][i]\n",
    "                    u = u+1\n",
    "                else:\n",
    "                    b[v] = ak[k-1][i]\n",
    "                    v = v+1\n",
    "\n",
    "                print(\" \",u,v,a,b)\n",
    "\n",
    "           \n",
    "            #when match occurs on last i, report after the loop\n",
    "            # not in Durbin et al, 2014\n",
    "            if (u>0) and (v>0):\n",
    "                print(\"  !!! match ending at k=\"+str(k)+\" haplos=\"+str(a)+\",\"+str(b))\n",
    "                yield k,a,b\n",
    "    print()\n",
    "\n",
    "\n",
    "L=2\n",
    "result = report_long_matches_2_for_all_k(ak,dk,L)\n",
    "\n",
    "print(\n",
    "    \"\\n\".join(\n",
    "        [\n",
    "            str(\n",
    "                (\n",
    "                    k,\n",
    "                    [i for i in a if i!=None],\n",
    "                    [i for i in b if i!=None],\n",
    "                )\n",
    "            ) for (k,a,b) in result\n",
    "        ]\n",
    "    )\n",
    ")"
   ]
  },
  {
   "cell_type": "markdown",
   "metadata": {},
   "source": [
    "One minor note, I don't think algorithm 3 as presented in Durbin (2014) accounts for the case where a block of matching haplotypes extends up to the final haplotype, so I added in an extra couple of lines to account for this case.\n",
    "\n",
    "Let's try it out on the dummy data, finding matches 3 or longer."
   ]
  },
  {
   "cell_type": "code",
   "execution_count": 14,
   "metadata": {
    "collapsed": false,
    "jupyter": {
     "outputs_hidden": false
    }
   },
   "outputs": [
    {
     "data": {
      "text/html": [
       "<pre style=\"line-height: 100%\">i|dk[N-1]|      k=N-1<br/>0|        5|01010  0<br/>3|        3|011<strong><u>10</u></strong>  0<br/>1|        5|11001  1<br/>4|        3|111<strong><u>01</u></strong>  1<br/>2|        4|1011<strong><u>1</u></strong>  0<br/></pre>"
      ]
     },
     "metadata": {},
     "output_type": "display_data"
    },
    {
     "name": "stdout",
     "output_type": "stream",
     "text": [
      "\n",
      "(2, [0], [3])\n",
      "(2, [1], [4])\n",
      "(3, [1], [0])\n",
      "(3, [4], [3])\n",
      "(4, [3], [2])\n"
     ]
    }
   ],
   "source": [
    "\n",
    "display_prefix_and_divergence_arrays(X)\n",
    "print()\n",
    "\n",
    "for match in report_long_matches(X, L):\n",
    "    print(match)"
   ]
  },
  {
   "cell_type": "markdown",
   "metadata": {},
   "source": [
    "So 4 matches have been found. The first match terminates at position 4, and is between haplotypes 4 and 5. Again let's write a display function to help visualise."
   ]
  },
  {
   "cell_type": "code",
   "execution_count": 15,
   "metadata": {
    "collapsed": false,
    "jupyter": {
     "outputs_hidden": false
    }
   },
   "outputs": [],
   "source": [
    "def display_long_matches(X, L):\n",
    "    from IPython.display import display_html\n",
    "    html = '<pre style=\"line-height: 100%\">'\n",
    "    for match in report_long_matches(X, L):\n",
    "        k, ma, mb = match\n",
    "        print(k,ma,mb)\n",
    "        for i in sorted(ma):\n",
    "            for j in sorted(mb):\n",
    "                html += 'match ending at position %s between haplotypes %s and %s:<br/><br/>' % (k, i, j)\n",
    "                h1 = X[i][k-L:k+1]\n",
    "                h2 = X[j][k-L:k+1]\n",
    "                html += str(i) + '|' + ''.join(str(allele) for allele in h1[:-1]) \n",
    "                html += str(h1[-1]) + '<br/>'\n",
    "                html += str(j) + '|<strong><u>' + ''.join(str(allele) for allele in h2[:-1]) + '</u></strong>'\n",
    "                html += str(h2[-1]) + '<br/><br/>'\n",
    "    html += '</pre>'\n",
    "    display_html(html, raw=True)"
   ]
  },
  {
   "cell_type": "code",
   "execution_count": 16,
   "metadata": {
    "collapsed": false,
    "jupyter": {
     "outputs_hidden": false
    }
   },
   "outputs": [
    {
     "name": "stdout",
     "output_type": "stream",
     "text": [
      "0[0, 1, 0, 1, 0, 0]\n",
      "1[1, 1, 0, 0, 1, 1]\n",
      "2[1, 0, 1, 1, 1, 0]\n",
      "3[0, 1, 1, 1, 0, 0]\n",
      "4[1, 1, 1, 0, 1, 1]\n",
      "2 [0] [3]\n",
      "2 [1] [4]\n",
      "3 [1] [0]\n",
      "3 [4] [3]\n",
      "4 [3] [2]\n"
     ]
    },
    {
     "data": {
      "text/html": [
       "<pre style=\"line-height: 100%\">match ending at position 2 between haplotypes 0 and 3:<br/><br/>0|010<br/>3|<strong><u>01</u></strong>1<br/><br/>match ending at position 2 between haplotypes 1 and 4:<br/><br/>1|110<br/>4|<strong><u>11</u></strong>1<br/><br/>match ending at position 3 between haplotypes 1 and 0:<br/><br/>1|100<br/>0|<strong><u>10</u></strong>1<br/><br/>match ending at position 3 between haplotypes 4 and 3:<br/><br/>4|110<br/>3|<strong><u>11</u></strong>1<br/><br/>match ending at position 4 between haplotypes 3 and 2:<br/><br/>3|110<br/>2|<strong><u>11</u></strong>1<br/><br/></pre>"
      ]
     },
     "metadata": {},
     "output_type": "display_data"
    }
   ],
   "source": [
    "print(\"\\n\".join([str(i)+str(data) for i,data in enumerate(X)]))\n",
    "display_long_matches(X, 2)"
   ]
  },
  {
   "cell_type": "markdown",
   "metadata": {},
   "source": [
    "You may have noticed that the dummy data *X* contains two haplotypes that are completely identical over all 6 positions, so why aren't these found? That's because the algorithm requires matches to terminate."
   ]
  },
  {
   "cell_type": "code",
   "execution_count": 17,
   "metadata": {
    "collapsed": false,
    "jupyter": {
     "outputs_hidden": false
    }
   },
   "outputs": [
    {
     "data": {
      "text/html": [
       "<pre style=\"line-height: 100%\"></pre>"
      ]
     },
     "metadata": {},
     "output_type": "display_data"
    }
   ],
   "source": [
    "display_long_matches(X, 3)\n",
    "# no matches, as expected"
   ]
  },
  {
   "cell_type": "markdown",
   "metadata": {},
   "source": [
    "**benjamin : variation mentionned by Durbin**\n",
    "\n",
    "**NOT FUNCTIONNAL : to finish**\n",
    "\n",
    "This method can deliver all matches that extend in both directions from a location by at least a minimum length L/2.\n"
   ]
  },
  {
   "cell_type": "code",
   "execution_count": 24,
   "metadata": {},
   "outputs": [
    {
     "name": "stdout",
     "output_type": "stream",
     "text": [
      "[0, 1, 0, 1, 0, 0]\n",
      "[1, 1, 1, 0, 1, 1]\n",
      "[1, 1, 1, 1, 1, 0]\n",
      "[1, 1, 1, 1, 1, 0]\n",
      "[0, 1, 1, 0, 1, 1]\n",
      "\n",
      "ak[1]: [0, 4, 1, 2, 3]\n",
      "ak[2]: [0, 4, 1, 2, 3]\n",
      "ak[3]: [0, 4, 1, 2, 3]\n",
      "ak[4]: [4, 1, 0, 2, 3]\n",
      "ak[5]: [0, 4, 1, 2, 3]\n",
      "\n",
      "dk[1]: [1, 0, 1, 0, 0]\n",
      "dk[2]: [2, 0, 1, 0, 0]\n",
      "dk[3]: [3, 3, 1, 0, 0]\n",
      "dk[4]: [4, 1, 4, 3, 0]\n",
      "dk[5]: [5, 5, 1, 4, 0]\n",
      "\n",
      "dk[i]>k-L ? for L=2\n",
      "dk[1]: ['True', 'True', 'True', 'True', 'True']\n",
      "dk[2]: ['True', 'False', 'True', 'False', 'False']\n",
      "dk[3]: ['True', 'True', 'False', 'False', 'False']\n",
      "dk[4]: ['True', 'False', 'True', 'True', 'False']\n",
      "dk[5]: ['True', 'True', 'False', 'True', 'False']\n",
      "\n",
      "\n",
      "\n",
      "k:1\n",
      "i: 0\n",
      "  yik 0 1\n",
      "  1 [0, None, None, None, None, None, None, None, None, None]\n",
      "i: 1\n",
      "  yik 4 1\n",
      "  2 [0, 4, None, None, None, None, None, None, None, None]\n",
      "i: 2\n",
      "  yik 1 1\n",
      "  3 [0, 4, 1, None, None, None, None, None, None, None]\n",
      "i: 3\n",
      "  yik 2 1\n",
      "  4 [0, 4, 1, 2, None, None, None, None, None, None]\n",
      "i: 4\n",
      "  yik 3 1\n",
      "  5 [0, 4, 1, 2, 3, None, None, None, None, None]\n",
      "  !!! match centered on 0 haplos=[0, 4, 1, 2, 3, None, None, None, None, None]\n",
      "\n",
      "k:2\n",
      "i: 0\n",
      "  yik 0 0\n",
      "  1 [0, None, None, None, None, None, None, None, None, None]\n",
      "i: 1\n",
      "  yik 4 1\n",
      "  2 [0, 4, None, None, None, None, None, None, None, None]\n",
      "i: 2\n",
      "  yik 1 1\n",
      "  3 [0, 4, 1, None, None, None, None, None, None, None]\n",
      "i: 3\n",
      "  yik 2 1\n",
      "  4 [0, 4, 1, 2, None, None, None, None, None, None]\n",
      "i: 4\n",
      "  yik 3 1\n",
      "  5 [0, 4, 1, 2, 3, None, None, None, None, None]\n",
      "  !!! match centered on 1 haplos=[0, 4, 1, 2, 3, None, None, None, None, None]\n",
      "\n",
      "k:3\n",
      "i: 0\n",
      "  yik 0 1\n",
      "  1 [0, None, None, None, None, None, None, None, None, None]\n",
      "i: 1\n",
      "  yik 4 0\n",
      "  2 [0, 4, None, None, None, None, None, None, None, None]\n",
      "i: 2\n",
      "  yik 1 0\n",
      "  3 [0, 4, 1, None, None, None, None, None, None, None]\n",
      "i: 3\n",
      "  yik 2 1\n",
      "  4 [0, 4, 1, 2, None, None, None, None, None, None]\n",
      "i: 4\n",
      "  yik 3 1\n",
      "  5 [0, 4, 1, 2, 3, None, None, None, None, None]\n",
      "  !!! match centered on 2 haplos=[0, 4, 1, 2, 3, None, None, None, None, None]\n",
      "\n",
      "k:4\n",
      "i: 0\n",
      "  yik 4 1\n",
      "  1 [4, None, None, None, None, None, None, None, None, None]\n",
      "i: 1\n",
      "  yik 1 1\n",
      "  2 [4, 1, None, None, None, None, None, None, None, None]\n",
      "i: 2\n",
      "  yik 0 0\n",
      "  3 [4, 1, 0, None, None, None, None, None, None, None]\n",
      "i: 3\n",
      "  yik 2 1\n",
      "  4 [4, 1, 0, 2, None, None, None, None, None, None]\n",
      "i: 4\n",
      "  yik 3 1\n",
      "  5 [4, 1, 0, 2, 3, None, None, None, None, None]\n",
      "  !!! match centered on 3 haplos=[4, 1, 0, 2, 3, None, None, None, None, None]\n",
      "\n",
      "k:5\n",
      "i: 0\n",
      "  yik 0 0\n",
      "  1 [0, None, None, None, None, None, None, None, None, None]\n",
      "i: 1\n",
      "  yik 4 1\n",
      "  2 [0, 4, None, None, None, None, None, None, None, None]\n",
      "i: 2\n",
      "  yik 1 1\n",
      "  3 [0, 4, 1, None, None, None, None, None, None, None]\n",
      "i: 3\n",
      "  yik 2 0\n",
      "  4 [0, 4, 1, 2, None, None, None, None, None, None]\n",
      "i: 4\n",
      "  <=!\n",
      "  !!! match centered on 4 haplos=[0, 4, 1, 2, None, None, None, None, None, None]\n",
      "  yik 3 0\n",
      "  1 [3, 4, 1, 2, None, None, None, None, None, None]\n",
      "  !!! match centered on 4 haplos=[3, 4, 1, 2, None, None, None, None, None, None]\n",
      "\n",
      "(1, [0, 4, 1, 2, 3])\n",
      "(2, [0, 4, 1, 2, 3])\n",
      "(3, [0, 4, 1, 2, 3])\n",
      "(4, [4, 1, 0, 2, 3])\n",
      "(5, [0, 4, 1, 2])\n",
      "(5, [3, 4, 1, 2])\n",
      "\n",
      "\n"
     ]
    }
   ],
   "source": [
    "X2 = [[0, 1, 0, 1, 0, 0],\n",
    "     [1, 1, 1, 0, 1, 1],\n",
    "     [1, 1, 1, 1, 1, 0],\n",
    "     [1, 1, 1, 1, 1, 0],\n",
    "     [0, 1, 1, 0, 1, 1]]\n",
    "\n",
    "\n",
    "ak, dk = build_all_prefix_and_divergence_arrays(X2)\n",
    "\n",
    "print(\"\\n\".join([str(i) for i in X2]))\n",
    "print()\n",
    "\n",
    "all_ppa, all_div = build_all_prefix_and_divergence_arrays(X2)\n",
    "print(\"\\n\".join([\"ak[\"+str(k+1)+\"]: \"+str(ak) for k,ak in enumerate(all_ppa)]))\n",
    "print()\n",
    "print(\"\\n\".join([\"dk[\"+str(k+1)+\"]: \"+str(dk) for k,dk in enumerate(all_div)]))\n",
    "print()\n",
    "\n",
    "#match length\n",
    "L=2\n",
    "\n",
    "print(\"dk[i]>k-L ? for L=\"+str(L))\n",
    "[ print(\n",
    "        \"dk[\" + str(k+1) + \"]: \" +\n",
    "        str(\n",
    "            [ str( dki>(k+1-L) ) for dki in dk ]\n",
    "        )\n",
    "    ) \n",
    "    for k,dk in enumerate(all_div)\n",
    "]\n",
    "print()\n",
    "print()\n",
    "     \n",
    "\n",
    "def report_long_matches_bidirectional_for_all_k(ak, dk, L):\n",
    "    \n",
    "    for k in range(1,len(X2[0])):\n",
    "        \n",
    "        if k>=L-1:   # not in Durbin et al, 2014\n",
    "            print()\n",
    "            print(\"k:\"+str(k))\n",
    "            \n",
    "            # algo 3 from paper\n",
    "            u = 0\n",
    "            a = [None] * 10\n",
    "            \n",
    "            for i in range(len(X2)):\n",
    "\n",
    "                print(\"i: \"+str(i))\n",
    "\n",
    "                if dk[k-1][i] <= (k-(2*L+1)):\n",
    "                    print(\"  <=!\")\n",
    "                    if (u>0):\n",
    "                        print(\"  !!! match centered on \"+str(k-(L-1))+\" haplos=\"+str(a))\n",
    "                        yield k,a\n",
    "                    u = 0\n",
    "                    v = 0\n",
    "\n",
    "                print(\"  yik\",ak[k-1][i], X2[ak[k-1][i]][k])\n",
    "                a[u] = ak[k-1][i]\n",
    "                u = u+1\n",
    "                print(\" \",u,a)\n",
    "\n",
    "           \n",
    "            #when match occurs on last i, report after the loop\n",
    "            # not in Durbin et al, 2014\n",
    "            if (u>0):\n",
    "                print(\"  !!! match centered on \"+str(k-(L-1))+\" haplos=\"+str(a))\n",
    "                yield k,a\n",
    "    print()\n",
    "\n",
    "result = report_long_matches_bidirectional_for_all_k(ak,dk,L)\n",
    "\n",
    "print(\n",
    "    \"\\n\".join(\n",
    "        [\n",
    "            str(\n",
    "                (\n",
    "                    k,\n",
    "                    [i for i in a if i!=None]\n",
    "                )\n",
    "            ) for (k,a) in result\n",
    "        ]\n",
    "    )\n",
    ")\n",
    "\n",
    "\n",
    "print()\n",
    "print()\n"
   ]
  },
  {
   "cell_type": "markdown",
   "metadata": {},
   "source": [
    "## Algorithm 4. Report set maximal matches\n",
    "\n",
    "Algorithm 4 shows how to find \"set maximal matches\" for each haplotype. These are the longest match for each haplotype at each position *k*. Again this makes use of the fact that haplotypes with maximal matches will be adjacent in the sorted order. At each position *k*, the algorithm iterates through the haplotypes in sorted order, looking for a maximal match for each haplotype. The first thing it does is to try and find any neighbours where the match can be extended, i.e., where the alleles at position *k* are the same. If so, continue on to the next haplotype without reporting anything. Otherwise, report a match with the longest matching neighbour (taking into account the fact that several neighbours may have equally long matches). "
   ]
  },
  {
   "cell_type": "code",
   "execution_count": 113,
   "metadata": {},
   "outputs": [],
   "source": [
    "def report_set_maximal_matches(X):\n",
    "\n",
    "    # M haplotypes\n",
    "    M = len(X)\n",
    "\n",
    "    # N variable sites\n",
    "    N = len(X[0])\n",
    "    \n",
    "    # initialise positional prefix array\n",
    "    ppa = list(range(M))\n",
    "    \n",
    "    # initialise divergence array\n",
    "    div = [0] * M\n",
    "    \n",
    "    # iterate over variants\n",
    "    for k in range(N):\n",
    "        \n",
    "        # sentinel\n",
    "        div.append(k+1)\n",
    "        \n",
    "        for i in range(M):\n",
    "            \n",
    "            m = i - 1\n",
    "            n = i + 1\n",
    "            match_continues = False\n",
    "            \n",
    "            if div[i] <= div[i+1]:\n",
    "                # match to previous neighbour is longer, scan \"down\" the haplotypes (decreasing indices)\n",
    "                while div[m+1] <= div[i]:\n",
    "                    if X[ppa[m]][k] == X[ppa[i]][k]:\n",
    "                        match_continues = True\n",
    "                        break\n",
    "                    m -= 1\n",
    "            if match_continues:\n",
    "                continue\n",
    "                    \n",
    "            if div[i] >= div[i+1]:\n",
    "                # match to next neighbour is longer, scan \"up\" the haplotypes (increasing indices)\n",
    "                while div[n] <= div[i+1]:\n",
    "                    if X[ppa[n]][k] == X[ppa[i]][k]:\n",
    "                        match_continues = True\n",
    "                        break\n",
    "                    n += 1\n",
    "            if match_continues:\n",
    "                continue\n",
    "                \n",
    "            for j in range(m+1, i):\n",
    "                if div[i] < k:  # N.B., avoid 0 length matches, not in Durbin (2014)\n",
    "                    yield ppa[i], ppa[j], div[i], k\n",
    "                \n",
    "            for j in range(i+1, n):\n",
    "                if div[i+1] < k:  # N.B., avoid 0 length matches, not in Durbin (2014)\n",
    "                    yield ppa[i], ppa[j], div[i+1], k\n",
    "\n",
    "                    \n",
    "        # build next prefix and divergence arrays\n",
    "        if k < N - 1:        \n",
    "                \n",
    "            # setup intermediates\n",
    "            a = list()\n",
    "            b = list()\n",
    "            d = list()\n",
    "            e = list()\n",
    "            p = q = k + 1\n",
    "\n",
    "            # iterate over haplotypes in prefix sorted order\n",
    "            for index, match_start in zip(ppa, div):\n",
    "\n",
    "                # current haplotype\n",
    "                haplotype = X[index]\n",
    "\n",
    "                # allele for current haplotype\n",
    "                allele = haplotype[k]\n",
    "\n",
    "                # update intermediates\n",
    "                if match_start > p:\n",
    "                    p = match_start\n",
    "                if match_start > q:\n",
    "                    q = match_start\n",
    "\n",
    "                # update intermediates\n",
    "                if allele == 0:\n",
    "                    a.append(index)\n",
    "                    d.append(p)\n",
    "                    p = 0\n",
    "                else:\n",
    "                    b.append(index)\n",
    "                    e.append(q)\n",
    "                    q = 0\n",
    "\n",
    "            # construct the new arrays for k+1\n",
    "            ppa = a + b\n",
    "            div = d + e\n",
    "            "
   ]
  },
  {
   "cell_type": "code",
   "execution_count": 114,
   "metadata": {
    "collapsed": false,
    "jupyter": {
     "outputs_hidden": false
    }
   },
   "outputs": [
    {
     "name": "stdout",
     "output_type": "stream",
     "text": [
      "(2, 1, 0, 1)\n",
      "(2, 4, 0, 1)\n",
      "(0, 3, 0, 2)\n",
      "(3, 0, 0, 2)\n",
      "(1, 4, 0, 2)\n",
      "(4, 1, 0, 2)\n",
      "(0, 1, 1, 3)\n",
      "(1, 0, 1, 3)\n",
      "(3, 4, 1, 3)\n",
      "(4, 3, 1, 3)\n",
      "(2, 3, 2, 4)\n",
      "(3, 2, 2, 4)\n",
      "(2, 1, 4, 5)\n",
      "(2, 4, 4, 5)\n"
     ]
    }
   ],
   "source": [
    "for match in report_set_maximal_matches(X):\n",
    "    print(match)"
   ]
  },
  {
   "cell_type": "code",
   "execution_count": 27,
   "metadata": {},
   "outputs": [],
   "source": [
    "def display_set_maximal_matches(X):\n",
    "    from IPython.display import display_html\n",
    "    from operator import itemgetter\n",
    "    from itertools import groupby\n",
    "    html = '<pre style=\"line-height: 100%\">'\n",
    "    matches = sorted(report_set_maximal_matches(X), key=itemgetter(0, 2))\n",
    "    for i, sub_matches in groupby(matches, key=itemgetter(0)):\n",
    "        html += 'set maximal matches for haplotype %s:<br/><br/>' % i\n",
    "        hi = X[i]\n",
    "        html += str(i) + '|' + ''.join(map(str, hi)) + '<br/>'\n",
    "        for _, j, k1, k2 in sub_matches:\n",
    "            hj = X[j]\n",
    "            html += str(j) + '|' + ''.join(map(str, hj[:k1]))\n",
    "            html += '<strong><u>' + ''.join(map(str, hj[k1:k2])) + '</u></strong>'\n",
    "            html += ''.join(map(str, hj[k2:])) + '<br/>'\n",
    "        html += '<br/>'\n",
    "    html += '</pre>'\n",
    "    display_html(html, raw=True)"
   ]
  },
  {
   "cell_type": "code",
   "execution_count": 28,
   "metadata": {
    "collapsed": false,
    "jupyter": {
     "outputs_hidden": false
    }
   },
   "outputs": [
    {
     "data": {
      "text/html": [
       "<pre style=\"line-height: 100%\">set maximal matches for haplotype 0:<br/><br/>0|010100<br/>3|<strong><u>01</u></strong>1100<br/>1|1<strong><u>10</u></strong>011<br/><br/>set maximal matches for haplotype 1:<br/><br/>1|110011<br/>4|<strong><u>11</u></strong>1011<br/>0|0<strong><u>10</u></strong>100<br/><br/>set maximal matches for haplotype 2:<br/><br/>2|101110<br/>1|<strong><u>1</u></strong>10011<br/>4|<strong><u>1</u></strong>11011<br/>3|01<strong><u>11</u></strong>00<br/>1|1100<strong><u>1</u></strong>1<br/>4|1110<strong><u>1</u></strong>1<br/><br/>set maximal matches for haplotype 3:<br/><br/>3|011100<br/>0|<strong><u>01</u></strong>0100<br/>4|1<strong><u>11</u></strong>011<br/>2|10<strong><u>11</u></strong>10<br/><br/>set maximal matches for haplotype 4:<br/><br/>4|111011<br/>1|<strong><u>11</u></strong>0011<br/>3|0<strong><u>11</u></strong>100<br/><br/></pre>"
      ]
     },
     "metadata": {},
     "output_type": "display_data"
    }
   ],
   "source": [
    "display_set_maximal_matches(X)"
   ]
  },
  {
   "cell_type": "markdown",
   "metadata": {},
   "source": [
    "Here the bold underline indicates the regions in the haplotype representing set maximal matches to the haplotype at the top.\n",
    "\n",
    "Again you may notice that there are no matches reported for the two haplotypes that are identical across all 6 positions. Again this is because matches are required to terminate.\n",
    "\n",
    "Let's have a look with some random data for further illustration."
   ]
  },
  {
   "cell_type": "code",
   "execution_count": null,
   "metadata": {},
   "outputs": [],
   "source": []
  },
  {
   "cell_type": "code",
   "execution_count": 32,
   "metadata": {
    "collapsed": false,
    "jupyter": {
     "outputs_hidden": false
    }
   },
   "outputs": [
    {
     "name": "stdout",
     "output_type": "stream",
     "text": [
      "[0, 1, 0, 1, 0, 1, 1, 0, 0, 0, 1, 1, 0, 1, 1, 1, 1, 1, 1, 1]\n",
      "[1, 0, 0, 1, 1, 1, 0, 0, 1, 1, 0, 0, 1, 1, 0, 1, 0, 1, 0, 1]\n",
      "[1, 1, 1, 1, 1, 0, 0, 0, 0, 0, 1, 1, 1, 1, 1, 0, 1, 0, 0, 1]\n"
     ]
    },
    {
     "data": {
      "text/html": [
       "<pre style=\"line-height: 100%\">set maximal matches for haplotype 0:<br/><br/>0|01010110001101111111<br/>2|1<strong><u>1</u></strong>111000001111101001<br/>1|10<strong><u>01</u></strong>1100110011010101<br/>1|10011<strong><u>1</u></strong>00110011010101<br/>2|1111100<strong><u>00011</u></strong>11101001<br/>2|1111100000111<strong><u>11</u></strong>01001<br/>1|100111001100110<strong><u>1</u></strong>0101<br/>2|1111100000111110<strong><u>1</u></strong>001<br/>1|10011100110011010<strong><u>1</u></strong>01<br/><br/>set maximal matches for haplotype 1:<br/><br/>1|10011100110011010101<br/>2|<strong><u>1</u></strong>1111000001111101001<br/>0|01<strong><u>01</u></strong>0110001101111111<br/>2|111<strong><u>11</u></strong>000001111101001<br/>0|01010<strong><u>1</u></strong>10001101111111<br/>2|111110<strong><u>00</u></strong>001111101001<br/>2|111110000011<strong><u>11</u></strong>101001<br/>0|010101100011011<strong><u>1</u></strong>1111<br/>0|01010110001101111<strong><u>1</u></strong>11<br/><br/>set maximal matches for haplotype 2:<br/><br/>2|11111000001111101001<br/>1|<strong><u>1</u></strong>0011100110011010101<br/>0|0<strong><u>1</u></strong>010110001101111111<br/>1|100<strong><u>11</u></strong>100110011010101<br/>1|100111<strong><u>00</u></strong>110011010101<br/>0|0101011<strong><u>00011</u></strong>01111111<br/>1|100111001100<strong><u>11</u></strong>010101<br/>0|0101011000110<strong><u>11</u></strong>11111<br/>0|0101011000110111<strong><u>1</u></strong>111<br/><br/></pre>"
      ]
     },
     "metadata": {},
     "output_type": "display_data"
    }
   ],
   "source": [
    "import random\n",
    "M = 3\n",
    "N = 20\n",
    "Y = [[random.randint(0, 1) for _ in range(N)] for _ in range(M)]\n",
    "print(\"\\n\".join([str(haplo) for haplo in Y]))\n",
    "display_set_maximal_matches(Y)"
   ]
  },
  {
   "cell_type": "markdown",
   "metadata": {},
   "source": [
    "**benjamin: algo 4 version using paper notations**\n"
   ]
  },
  {
   "cell_type": "code",
   "execution_count": 115,
   "metadata": {},
   "outputs": [
    {
     "name": "stdout",
     "output_type": "stream",
     "text": [
      "[0, 1, 0, 1, 0, 0]\n",
      "[1, 1, 0, 0, 1, 1]\n",
      "[1, 0, 1, 1, 1, 0]\n",
      "[0, 1, 1, 1, 0, 0]\n",
      "[1, 1, 1, 0, 1, 1]\n",
      "\n",
      "ak[1]: [0, 3, 1, 2, 4]\n",
      "ak[2]: [2, 0, 3, 1, 4]\n",
      "ak[3]: [0, 1, 2, 3, 4]\n",
      "ak[4]: [1, 4, 0, 2, 3]\n",
      "ak[5]: [0, 3, 1, 4, 2]\n",
      "\n",
      "dk[1]: [1, 0, 1, 0, 0]\n",
      "dk[2]: [2, 2, 0, 1, 0]\n",
      "dk[3]: [3, 1, 3, 2, 1]\n",
      "dk[4]: [4, 3, 4, 3, 2]\n",
      "dk[5]: [5, 3, 5, 3, 4]\n",
      "\n",
      "k:1\n",
      "  dk_ext: [2, 0, 1, 0, 0, 2]\n",
      "  i=0\n",
      "    m,n:(-1, 1)\n",
      "    test i,i+1: (2, 0)\n",
      "    right\n",
      "    r n:1 k-1:0\n",
      "    r Yki test:(1, 1)\n",
      "    next_i\n",
      "  i=1\n",
      "    m,n:(0, 2)\n",
      "    test i,i+1: (0, 1)\n",
      "    left\n",
      "    l m:0 k-1:0\n",
      "    l Yki test:(1, 0)\n",
      "    next_i\n",
      "  i=2\n",
      "    m,n:(1, 3)\n",
      "    test i,i+1: (1, 0)\n",
      "    right\n",
      "    r n:3 k-1:0\n",
      "    r Yki test:(0, 1)\n",
      "    r n:4 k-1:0\n",
      "    r Yki test:(1, 1)\n",
      "    next_i\n",
      "  i=3\n",
      "    m,n:(2, 4)\n",
      "    test i,i+1: (0, 0)\n",
      "    left\n",
      "    l m:2 k-1:0\n",
      "    l Yki test:(1, 1)\n",
      "    right\n",
      "    r n:4 k-1:0\n",
      "    r Yki test:(1, 0)\n",
      "    !! report !! m,i,n:(1, 3, 5)\n",
      "    match from: a to b, pos to pos\n",
      "    match: (2, 1, 0, 1)\n",
      "    match: (2, 4, 0, 1)\n",
      "  i=4\n",
      "    m,n:(3, 5)\n",
      "    test i,i+1: (0, 2)\n",
      "    left\n",
      "    l m:3 k-1:0\n",
      "    l Yki test:(0, 1)\n",
      "    l m:2 k-1:0\n",
      "    l Yki test:(1, 1)\n",
      "    next_i\n",
      "k:2\n",
      "  dk_ext: [3, 2, 0, 1, 0, 3]\n",
      "  i=0\n",
      "    m,n:(-1, 1)\n",
      "    test i,i+1: (3, 2)\n",
      "    right\n",
      "    r n:1 k-1:1\n",
      "    r Yki test:(0, 1)\n",
      "    r n:2 k-1:1\n",
      "    r Yki test:(1, 1)\n",
      "    next_i\n",
      "  i=1\n",
      "    m,n:(0, 2)\n",
      "    test i,i+1: (2, 0)\n",
      "    right\n",
      "    r n:2 k-1:1\n",
      "    r Yki test:(1, 0)\n",
      "    !! report !! m,i,n:(0, 1, 3)\n",
      "    match from: a to b, pos to pos\n",
      "    match: (0, 3, 2, 2)\n",
      "  i=2\n",
      "    m,n:(1, 3)\n",
      "    test i,i+1: (0, 1)\n",
      "    left\n",
      "    l m:1 k-1:1\n",
      "    l Yki test:(0, 1)\n",
      "    !! report !! m,i,n:(0, 2, 3)\n",
      "    match from: a to b, pos to pos\n",
      "    match: (3, 0, 0, 2)\n",
      "  i=3\n",
      "    m,n:(2, 4)\n",
      "    test i,i+1: (1, 0)\n",
      "    right\n",
      "    r n:4 k-1:1\n",
      "    r Yki test:(1, 0)\n",
      "    !! report !! m,i,n:(2, 3, 5)\n",
      "    match from: a to b, pos to pos\n",
      "    match: (1, 4, 1, 2)\n",
      "  i=4\n",
      "    m,n:(3, 5)\n",
      "    test i,i+1: (0, 3)\n",
      "    left\n",
      "    l m:3 k-1:1\n",
      "    l Yki test:(0, 1)\n",
      "    !! report !! m,i,n:(2, 4, 5)\n",
      "    match from: a to b, pos to pos\n",
      "    match: (4, 1, 0, 2)\n",
      "k:3\n",
      "  dk_ext: [4, 1, 3, 2, 1, 4]\n",
      "  i=0\n",
      "    m,n:(-1, 1)\n",
      "    test i,i+1: (4, 1)\n",
      "    right\n",
      "    r n:1 k-1:2\n",
      "    r Yki test:(0, 1)\n",
      "    !! report !! m,i,n:(-1, 0, 2)\n",
      "    match from: a to b, pos to pos\n",
      "    match: (0, 1, 4, 3)\n",
      "  i=1\n",
      "    m,n:(0, 2)\n",
      "    test i,i+1: (1, 3)\n",
      "    left\n",
      "    l m:0 k-1:2\n",
      "    l Yki test:(1, 0)\n",
      "    !! report !! m,i,n:(-1, 1, 2)\n",
      "    match from: a to b, pos to pos\n",
      "    match: (1, 0, 1, 3)\n",
      "  i=2\n",
      "    m,n:(1, 3)\n",
      "    test i,i+1: (3, 2)\n",
      "    right\n",
      "    r n:3 k-1:2\n",
      "    r Yki test:(1, 1)\n",
      "    next_i\n",
      "  i=3\n",
      "    m,n:(2, 4)\n",
      "    test i,i+1: (2, 1)\n",
      "    right\n",
      "    r n:4 k-1:2\n",
      "    r Yki test:(0, 1)\n",
      "    !! report !! m,i,n:(2, 3, 5)\n",
      "    match from: a to b, pos to pos\n",
      "    match: (3, 4, 2, 3)\n",
      "  i=4\n",
      "    m,n:(3, 5)\n",
      "    test i,i+1: (1, 4)\n",
      "    left\n",
      "    l m:3 k-1:2\n",
      "    l Yki test:(1, 1)\n",
      "    !! report !! m,i,n:(2, 4, 5)\n",
      "    match from: a to b, pos to pos\n",
      "    match: (4, 3, 1, 3)\n",
      "k:4\n",
      "  dk_ext: [5, 3, 4, 3, 2, 5]\n",
      "  i=0\n",
      "    m,n:(-1, 1)\n",
      "    test i,i+1: (5, 3)\n",
      "    right\n",
      "    r n:1 k-1:3\n",
      "    r Yki test:(1, 1)\n",
      "    next_i\n",
      "  i=1\n",
      "    m,n:(0, 2)\n",
      "    test i,i+1: (3, 4)\n",
      "    left\n",
      "    l m:0 k-1:3\n",
      "    l Yki test:(1, 0)\n",
      "    next_i\n",
      "  i=2\n",
      "    m,n:(1, 3)\n",
      "    test i,i+1: (4, 3)\n",
      "    right\n",
      "    r n:3 k-1:3\n",
      "    r Yki test:(1, 0)\n",
      "    r n:4 k-1:3\n",
      "    r Yki test:(0, 0)\n",
      "    next_i\n",
      "  i=3\n",
      "    m,n:(2, 4)\n",
      "    test i,i+1: (3, 2)\n",
      "    right\n",
      "    r n:4 k-1:3\n",
      "    r Yki test:(0, 1)\n",
      "    !! report !! m,i,n:(2, 3, 5)\n",
      "    match from: a to b, pos to pos\n",
      "    match: (2, 3, 3, 4)\n",
      "  i=4\n",
      "    m,n:(3, 5)\n",
      "    test i,i+1: (2, 5)\n",
      "    left\n",
      "    l m:3 k-1:3\n",
      "    l Yki test:(1, 1)\n",
      "    !! report !! m,i,n:(2, 4, 5)\n",
      "    match from: a to b, pos to pos\n",
      "    match: (3, 2, 2, 4)\n",
      "k:5\n",
      "  dk_ext: [6, 3, 5, 3, 4, 6]\n",
      "  i=0\n",
      "    m,n:(-1, 1)\n",
      "    test i,i+1: (6, 3)\n",
      "    right\n",
      "    r n:1 k-1:4\n",
      "    r Yki test:(0, 0)\n",
      "    next_i\n",
      "  i=1\n",
      "    m,n:(0, 2)\n",
      "    test i,i+1: (3, 5)\n",
      "    left\n",
      "    l m:0 k-1:4\n",
      "    l Yki test:(0, 0)\n",
      "    next_i\n",
      "  i=2\n",
      "    m,n:(1, 3)\n",
      "    test i,i+1: (5, 3)\n",
      "    right\n",
      "    r n:3 k-1:4\n",
      "    r Yki test:(1, 1)\n",
      "    next_i\n",
      "  i=3\n",
      "    m,n:(2, 4)\n",
      "    test i,i+1: (3, 4)\n",
      "    left\n",
      "    l m:2 k-1:4\n",
      "    l Yki test:(1, 1)\n",
      "    next_i\n",
      "  i=4\n",
      "    m,n:(3, 5)\n",
      "    test i,i+1: (4, 6)\n",
      "    left\n",
      "    l m:3 k-1:4\n",
      "    l Yki test:(1, 1)\n",
      "    l m:2 k-1:4\n",
      "    l Yki test:(1, 1)\n",
      "    !! report !! m,i,n:(1, 4, 5)\n",
      "    match from: a to b, pos to pos\n",
      "    match: (2, 1, 4, 5)\n",
      "    match: (2, 4, 4, 5)\n",
      "(2, 1, 0, 1)\n",
      "(2, 4, 0, 1)\n",
      "(0, 3, 2, 2)\n",
      "(3, 0, 0, 2)\n",
      "(1, 4, 1, 2)\n",
      "(4, 1, 0, 2)\n",
      "(0, 1, 4, 3)\n",
      "(1, 0, 1, 3)\n",
      "(3, 4, 2, 3)\n",
      "(4, 3, 1, 3)\n",
      "(2, 3, 3, 4)\n",
      "(3, 2, 2, 4)\n",
      "(2, 1, 4, 5)\n",
      "(2, 4, 4, 5)\n",
      "\n",
      "\n"
     ]
    }
   ],
   "source": [
    "\n",
    "\n",
    "ak, dk = build_all_prefix_and_divergence_arrays(X)\n",
    "\n",
    "print(\"\\n\".join([str(i) for i in X]))\n",
    "print()\n",
    "\n",
    "all_ppa, all_div = build_all_prefix_and_divergence_arrays(X)\n",
    "print(\"\\n\".join([\"ak[\"+str(k+1)+\"]: \"+str(ak) for k,ak in enumerate(all_ppa)]))\n",
    "print()\n",
    "print(\"\\n\".join([\"dk[\"+str(k+1)+\"]: \"+str(dk) for k,dk in enumerate(all_div)]))\n",
    "print()\n",
    "\n",
    "M = len(X)     # haplo\n",
    "N = len(X[0])  # sites\n",
    "\n",
    "def report_set_maximal_matches_v2(ak,dk):\n",
    "\n",
    "    for k in range(1,N):\n",
    "        print(\"k:\"+str(k))\n",
    "        \n",
    "        if (k>0): #not in durbin 2014\n",
    "            # extend dk[k] with sentinel first/last columns\n",
    "            dk[k-1][0] = k+1\n",
    "            dk[k-1].append(k+1)\n",
    "            print(\"  dk_ext: \"+str(dk[k-1]))\n",
    "            \n",
    "        for i in range(0,M): #shifter by 1 as dk extended with sentinels\n",
    "            print(\"  i=\"+str(i))\n",
    "            m = i-1\n",
    "            n = i+1\n",
    "            print(\"    m,n:\"+str((m,n)))\n",
    "            next_i = False\n",
    "            \n",
    "            print(\"    test i,i+1: \"+str((dk[k-1][i], dk[k-1][i+1])))            \n",
    "\n",
    "            \n",
    "            #scan dk[k] to the left\n",
    "            if dk[k-1][i] <= dk[k-1][i+1]:\n",
    "                print(\"    left\")\n",
    "                while dk[k-1][m+1] <= dk[k-1][i]:\n",
    "                    #if k!=N:\n",
    "                    print(\"    l m:\"+str(m)+\" k-1:\"+str(k-1))                    \n",
    "                    print(\"    l Yki test:\"+str((X[ak[k-1][m]][k], X[ak[k-1][i]][k-1])))\n",
    "                    if X[ak[k-1][m]][k] == X[ak[k-1][i]][k] :\n",
    "                        next_i = True\n",
    "                        break\n",
    "                    m = m-1\n",
    "            if next_i:\n",
    "                print(\"    next_i\")\n",
    "                continue\n",
    "                    \n",
    "                    \n",
    "            #scan dk[k] to the right        \n",
    "            if dk[k-1][i] >= dk[k-1][i+1]:\n",
    "                print(\"    right\")\n",
    "                while dk[k-1][n] <= dk[k-1][i+1]:\n",
    "                    #if n!=N:  # in durbin 2014, K!=N\n",
    "                    print(\"    r n:\"+str(n)+\" k-1:\"+str(k-1))\n",
    "                    print(\"    r Yki test:\"+str((X[ak[k-1][n]][k], X[ak[k-1][i]][k])))    \n",
    "                    if X[ak[k-1][n]][k] == X[ak[k-1][i]][k]:\n",
    "                        next_i = True\n",
    "                        break\n",
    "                    n = n+1\n",
    "            if next_i:\n",
    "                print(\"    next_i\")                \n",
    "                continue\n",
    "                \n",
    "            print(\"    !! report !! m,i,n:\"+str((m,i,n)))\n",
    "            print(\"    match from: a to b, pos to pos\")\n",
    "            # report match as (haplo1,haplo2,kstart,kend)\n",
    "            for j in range(m+1, i):\n",
    "                print(\"    match: \"+str((ak[k-1][i], ak[k-1][j], dk[k-1][i], k)))\n",
    "                yield (ak[k-1][i], ak[k-1][j], dk[k-1][i], k)\n",
    "            for j in range(i+1, n):\n",
    "                print(\"    match: \"+str((ak[k-1][i], ak[k-1][j], dk[k-1][i], k)))\n",
    "                yield (ak[k-1][i], ak[k-1][j], dk[k-1][i], k)\n",
    "    \n",
    "    \n",
    "\n",
    "result = report_set_maximal_matches_v2(ak,dk)\n",
    "\n",
    "print(\n",
    "    \"\\n\".join(\n",
    "        [\n",
    "            str((h1, h2, ks, ke))\n",
    "            for (h1,h2,ks,ke) in result\n",
    "        ]\n",
    "    )\n",
    ")\n",
    "\n",
    "\n",
    "print()\n",
    "print()\n",
    "    \n",
    "    \n",
    "    "
   ]
  },
  {
   "cell_type": "markdown",
   "metadata": {},
   "source": [
    "## Algorithm 5. Set maximal matches from a new sequence *z* to *X*\n",
    "\n",
    "I haven't got my head around this yet. Any help with the basic intuition would be very welcome."
   ]
  },
  {
   "cell_type": "markdown",
   "metadata": {},
   "source": [
    "## Compact representation of *X*\n",
    "\n",
    "I think I partly get this, at least why *PBWT* should be more compressible than the original *X*. But I don't get how you recover *X* from *PBWT*. I need to go and read up about the FM-index.\n",
    "\n",
    "Let's at least check the assertion that the *PBWT* is more compressible than *X*, using some real haplotype data from [Ag1000G](http://www.malariagen.net/ag1000g). First, I'm going to implement algorithm 2 in a slightly different way, using NumPy and Cython to speed things up, and also constructing the *PBWT* as output.  "
   ]
  },
  {
   "cell_type": "code",
   "execution_count": null,
   "metadata": {},
   "outputs": [],
   "source": [
    "%load_ext Cython"
   ]
  },
  {
   "cell_type": "code",
   "execution_count": null,
   "metadata": {
    "collapsed": false,
    "jupyter": {
     "outputs_hidden": false
    }
   },
   "outputs": [],
   "source": [
    "%%cython\n",
    "\n",
    "\n",
    "import numpy as np\n",
    "cimport numpy as np\n",
    "\n",
    "\n",
    "def build_pbwt(np.int8_t[:, :] H):\n",
    "    cdef:\n",
    "        Py_ssize_t N, M, k, i, u, v, p, q\n",
    "        np.uint32_t index, match_start\n",
    "        np.int8_t allele\n",
    "        np.int8_t[:, :] pbwt\n",
    "        np.uint32_t[:, :] ppa, div\n",
    "        np.uint32_t[:] a, b, d, e\n",
    "    \n",
    "    # expect haplotype data transposed\n",
    "    N, M = H.shape[:2]\n",
    "    \n",
    "    # setup pbwt\n",
    "    pbwt = np.empty_like(H)\n",
    "\n",
    "    # setup positional prefix array\n",
    "    ppa = np.empty((N, M), dtype='u4')\n",
    "    \n",
    "    # initialise first ppa column\n",
    "    for i in range(M):\n",
    "        ppa[0, i] = i\n",
    "    \n",
    "    # setup divergence array\n",
    "    div = np.zeros((N, M), dtype='u4')\n",
    "    \n",
    "    # setup intermediates\n",
    "    a = np.zeros(M, dtype='u4')\n",
    "    b = np.zeros(M, dtype='u4')\n",
    "    d = np.zeros(M, dtype='u4')\n",
    "    e = np.zeros(M, dtype='u4')\n",
    "    \n",
    "    # iterate over variants\n",
    "    for k in range(N):\n",
    "        \n",
    "        # setup intermediates\n",
    "        u = v = 0\n",
    "        p = q = k + 1\n",
    "    \n",
    "        # iterate over haplotypes in reverse prefix sorted order\n",
    "        for i in range(M):\n",
    "\n",
    "            # index for current haplotype\n",
    "            index = ppa[k, i]\n",
    "            \n",
    "            # match start position for current haplotype\n",
    "            match_start = div[k, i]\n",
    "            \n",
    "            # allele for current haplotype\n",
    "            allele = H[k, index]\n",
    "            \n",
    "            # update output\n",
    "            pbwt[k, i] = allele\n",
    "            \n",
    "            # update intermediates\n",
    "            if match_start > p:\n",
    "                p = match_start\n",
    "            if match_start > q:\n",
    "                q = match_start\n",
    "\n",
    "            # update intermediates\n",
    "            if allele == 0:\n",
    "                a[u] = index\n",
    "                d[u] = p\n",
    "                u += 1\n",
    "                p = 0\n",
    "            else:\n",
    "                b[v] = index\n",
    "                e[v] = q\n",
    "                v += 1\n",
    "                q = 0\n",
    "                \n",
    "        if k < N - 1:\n",
    "            \n",
    "            # construct the new positional prefix array for k+1\n",
    "            ppa[k+1, :u] = a[:u]\n",
    "            ppa[k+1, u:] = b[:v]\n",
    "        \n",
    "            # construct the new divergence array for k+1\n",
    "            div[k+1, :u] = d[:u]\n",
    "            div[k+1, u:] = e[:v]\n",
    "        \n",
    "    return np.asarray(pbwt), np.asarray(ppa), np.asarray(div)\n"
   ]
  },
  {
   "cell_type": "markdown",
   "metadata": {},
   "source": [
    "Import some extra libraries."
   ]
  },
  {
   "cell_type": "code",
   "execution_count": null,
   "metadata": {
    "collapsed": false,
    "jupyter": {
     "outputs_hidden": false
    }
   },
   "outputs": [],
   "source": [
    "import h5py\n",
    "import allel; print('scikit-allel', allel.__version__)\n",
    "import zarr; print('zarr', zarr.__version__)"
   ]
  },
  {
   "cell_type": "markdown",
   "metadata": {},
   "source": [
    "Set up some real haplotype data."
   ]
  },
  {
   "cell_type": "code",
   "execution_count": null,
   "metadata": {
    "collapsed": false,
    "jupyter": {
     "outputs_hidden": false
    }
   },
   "outputs": [],
   "source": [
    "callset_fn = 'data/2016-06-21/ag1000g.phase1.ar3.haplotypes.3R.h5'\n",
    "callset = h5py.File(callset_fn, mode='r')\n",
    "callset"
   ]
  },
  {
   "cell_type": "code",
   "execution_count": null,
   "metadata": {
    "collapsed": false,
    "jupyter": {
     "outputs_hidden": false
    }
   },
   "outputs": [],
   "source": [
    "genotypes = allel.GenotypeChunkedArray(callset['3R/calldata/genotype'])\n",
    "genotypes"
   ]
  },
  {
   "cell_type": "markdown",
   "metadata": {},
   "source": [
    "For comparison with results from Durbin (2014) let's take 1000 haplotypes and use the same number of segregating sites."
   ]
  },
  {
   "cell_type": "code",
   "execution_count": null,
   "metadata": {
    "collapsed": false,
    "jupyter": {
     "outputs_hidden": false
    }
   },
   "outputs": [],
   "source": [
    "H = genotypes[:500000, :500].to_haplotypes()\n",
    "ac = H.count_alleles()\n",
    "H = H[ac.is_segregating()]\n",
    "H = H[:370264]\n",
    "H"
   ]
  },
  {
   "cell_type": "markdown",
   "metadata": {},
   "source": [
    "Before applying the PBWT transform, check how compressible these data are already, using a standard compression algorithm (Zstsandard)."
   ]
  },
  {
   "cell_type": "code",
   "execution_count": null,
   "metadata": {
    "collapsed": false,
    "jupyter": {
     "outputs_hidden": false
    }
   },
   "outputs": [],
   "source": [
    "H_compressed_zstd = zarr.array(H, chunks=(679, H.shape[1]), \n",
    "                               compressor=zarr.Blosc(cname='zstd', clevel=1, shuffle=1))\n",
    "H_compressed_zstd"
   ]
  },
  {
   "cell_type": "markdown",
   "metadata": {},
   "source": [
    "So as they are, these haplotype data can be compressed down to 6.1M.\n",
    "\n",
    "Now let's built the *PBWT*."
   ]
  },
  {
   "cell_type": "code",
   "execution_count": null,
   "metadata": {
    "collapsed": false,
    "jupyter": {
     "outputs_hidden": false
    }
   },
   "outputs": [],
   "source": [
    "%%time\n",
    "pbwt, ppa, div = build_pbwt(np.asarray(H))"
   ]
  },
  {
   "cell_type": "code",
   "execution_count": null,
   "metadata": {
    "collapsed": false,
    "jupyter": {
     "outputs_hidden": false
    }
   },
   "outputs": [],
   "source": [
    "pbwt"
   ]
  },
  {
   "cell_type": "code",
   "execution_count": null,
   "metadata": {
    "collapsed": false,
    "jupyter": {
     "outputs_hidden": false
    }
   },
   "outputs": [],
   "source": [
    "pbwt_compressed_zstd = zarr.array(pbwt, chunks=(679, H.shape[1]), \n",
    "                                  compressor=zarr.Blosc(cname='zstd', clevel=1, shuffle=2))\n",
    "pbwt_compressed_zstd"
   ]
  },
  {
   "cell_type": "markdown",
   "metadata": {},
   "source": [
    "So in this case, *PBWT* is more compressible than the original data, but only marginally, requiring 4.5M rather than 6.1M. This seems at odds with what is reported in Durbin (2014), i.e., that PBWT is many times more compressible than raw haplotypes, so what's going on? \n",
    "\n",
    "I think that a lot of the benefit in terms of compressibility that is reported in Durbin (2014) is actually due to the fact that the haplotype data in the PBWT are transposed relative to the original .gz representation. I.e., If haplotypes are organised one variant per row rather than one haplotype per row, and the underlying bytes are in row-major order, then the data become more compressible as you add more haplotypes, because variants tend to be rare and hence most rows will be composed almost entirely of zeros. If you then permute each row via the PBWT you get a further benefit, because PBWT tends to bring the ones and zeros together, however the added benefit is fairly marginal and most of the gains come simply from the transposed layout.\n",
    "\n",
    "Note that I am using Zstandard here and not the run length encoding used in Durbin (2014), I don't know how much difference that would make.\n",
    "\n",
    "To make use of the PBWT you also need the divergence array, so how compressible is that?"
   ]
  },
  {
   "cell_type": "code",
   "execution_count": null,
   "metadata": {
    "collapsed": false,
    "jupyter": {
     "outputs_hidden": false
    }
   },
   "outputs": [],
   "source": [
    "div"
   ]
  },
  {
   "cell_type": "code",
   "execution_count": null,
   "metadata": {
    "collapsed": false,
    "jupyter": {
     "outputs_hidden": false
    }
   },
   "outputs": [],
   "source": [
    "div_compressed_zstd = zarr.array(div, chunks=(679, H.shape[1]), \n",
    "                                 compressor=zarr.Blosc(cname='zstd', clevel=1, shuffle=1))\n",
    "div_compressed_zstd"
   ]
  },
  {
   "cell_type": "markdown",
   "metadata": {},
   "source": [
    "The divergence array is not so compressible with this compression configuration. However Durbin (2014) suggests using a delta filter. Let's try this."
   ]
  },
  {
   "cell_type": "code",
   "execution_count": null,
   "metadata": {
    "collapsed": false,
    "jupyter": {
     "outputs_hidden": false
    }
   },
   "outputs": [],
   "source": [
    "div_compressed_zstd_delta = zarr.array(div, chunks=(679, H.shape[1]), \n",
    "                                       compressor=zarr.Blosc(cname='zstd', clevel=1, shuffle=1),\n",
    "                                       filters=[zarr.Delta(dtype=div.dtype)])\n",
    "div_compressed_zstd_delta"
   ]
  },
  {
   "cell_type": "markdown",
   "metadata": {},
   "source": [
    "In this case, including a delta filter actually makes things worse."
   ]
  },
  {
   "cell_type": "markdown",
   "metadata": {},
   "source": [
    "The raw .ipynb for this post is [here](https://github.com/alimanfoo/alimanfoo.github.io/tree/master/_posts).\n",
    "\n"
   ]
  },
  {
   "cell_type": "code",
   "execution_count": null,
   "metadata": {
    "collapsed": false,
    "jupyter": {
     "outputs_hidden": false
    }
   },
   "outputs": [],
   "source": [
    "import datetime\n",
    "print(datetime.datetime.now().isoformat())"
   ]
  }
 ],
 "metadata": {
  "kernelspec": {
   "display_name": "Python 3 (ipykernel)",
   "language": "python",
   "name": "python3"
  },
  "language_info": {
   "codemirror_mode": {
    "name": "ipython",
    "version": 3
   },
   "file_extension": ".py",
   "mimetype": "text/x-python",
   "name": "python",
   "nbconvert_exporter": "python",
   "pygments_lexer": "ipython3",
   "version": "3.11.0"
  }
 },
 "nbformat": 4,
 "nbformat_minor": 4
}
